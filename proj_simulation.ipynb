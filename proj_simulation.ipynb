{
 "cells": [
  {
   "cell_type": "code",
   "execution_count": 171,
   "metadata": {},
   "outputs": [],
   "source": [
    "import numpy as np\n",
    "import math\n",
    "import random as r\n",
    "import matplotlib.pyplot as plt"
   ]
  },
  {
   "cell_type": "code",
   "execution_count": 180,
   "metadata": {},
   "outputs": [],
   "source": [
    "class Cell:\n",
    "    def __init__(self, infecting_phages):\n",
    "        self.phage = infecting_phages\n",
    "        \n",
    "    def get_phages(self):\n",
    "        return 600"
   ]
  },
  {
   "cell_type": "code",
   "execution_count": 181,
   "metadata": {},
   "outputs": [],
   "source": [
    "class CellSection:\n",
    "\n",
    "    def __init__(self, cells, phages):\n",
    "        self.phage = phages\n",
    "        self.cell_clean = cells\n",
    "        self.cell_infected = 0\n",
    "        self.cell_dead = 0\n",
    "        self.cells = []\n",
    "        self.infect_cells()\n",
    "\n",
    "    def infect_cells(self):\n",
    "        m = self.phage / (self.cell_clean + self.cell_infected)\n",
    "        if m < 100:\n",
    "            infecting_phages = np.random.poisson(m, self.cell_clean)\n",
    "        else:\n",
    "            infecting_phages = np.random.normal(m, m ** 1/2, self.cell_clean)\n",
    "      #  print(infecting_phages)\n",
    "        for infecting_phage in infecting_phages:\n",
    "            if infecting_phage > 0:\n",
    "                self.cell_clean -= 1\n",
    "                self.cell_infected += 1\n",
    "                if infecting_phage >= self.phage:\n",
    "                    infecting_phage = self.phage\n",
    "                    self.cells.append(Cell(infecting_phage))\n",
    "                    self.phage -= infecting_phage\n",
    "                    break\n",
    "                else:\n",
    "                    self.cells.append(Cell(infecting_phage))\n",
    "                    self.phage -= infecting_phage\n",
    "\n",
    "    def update_time(self):\n",
    "        self.cell_dead += self.cell_infected\n",
    "        self.cell_infected = 0\n",
    "        self.cell_clean = 8 * self.cell_clean # lysis time is ~1hr, e coli reproduces in 20min\n",
    "        for i in range(len(self.cells)):\n",
    "            new_phages = self.cells[i].get_phages()\n",
    "            self.phage += new_phages\n",
    "            self.cell_dead += 1\n",
    "        self.cells = []\n",
    "        self.infect_cells()\n",
    "    \n",
    "    def debug_display(self):\n",
    "        print('#phages: ' + str(self.phage))\n",
    "        print('#healthy cells: ' + str(self.cell_clean))\n",
    "        print('#infected cells: ' + str(self.cell_infected))\n",
    "        print('#dead cells: ' + str(self.cell_dead))\n",
    "       # for cell in self.cells:\n",
    "        #    print(cell.phage)\n"
   ]
  },
  {
   "cell_type": "code",
   "execution_count": 198,
   "metadata": {},
   "outputs": [
    {
     "name": "stdout",
     "output_type": "stream",
     "text": [
      "#phages: 5897.641800907775\n",
      "#healthy cells: 3\n",
      "#infected cells: 97\n",
      "#dead cells: 0\n",
      "#phages: 899.7268517953257\n",
      "#healthy cells: 0\n",
      "#infected cells: 24\n",
      "#dead cells: 194\n",
      "#phages: 15299.726851795325\n",
      "#healthy cells: 0\n",
      "#infected cells: 0\n",
      "#dead cells: 242\n",
      "#phages: 15299.726851795325\n",
      "#healthy cells: 0\n",
      "#infected cells: 0\n",
      "#dead cells: 242\n",
      "#phages: 15299.726851795325\n",
      "#healthy cells: 0\n",
      "#infected cells: 0\n",
      "#dead cells: 242\n",
      "#phages: 15299.726851795325\n",
      "#healthy cells: 0\n",
      "#infected cells: 0\n",
      "#dead cells: 242\n",
      "#phages: 15299.726851795325\n",
      "#healthy cells: 0\n",
      "#infected cells: 0\n",
      "#dead cells: 242\n",
      "#phages: 15299.726851795325\n",
      "#healthy cells: 0\n",
      "#infected cells: 0\n",
      "#dead cells: 242\n",
      "#phages: 15299.726851795325\n",
      "#healthy cells: 0\n",
      "#infected cells: 0\n",
      "#dead cells: 242\n",
      "#phages: 15299.726851795325\n",
      "#healthy cells: 0\n",
      "#infected cells: 0\n",
      "#dead cells: 242\n",
      "#phages: 15299.726851795325\n",
      "#healthy cells: 0\n",
      "#infected cells: 0\n",
      "#dead cells: 242\n"
     ]
    },
    {
     "name": "stderr",
     "output_type": "stream",
     "text": [
      "C:\\Users\\User\\Anaconda3\\lib\\site-packages\\ipykernel_launcher.py:12: RuntimeWarning: divide by zero encountered in double_scalars\n",
      "  if sys.path[0] == '':\n"
     ]
    }
   ],
   "source": [
    "cs = CellSection(cells = 100, phages = 1000000)\n",
    "cs.debug_display()\n",
    "for i in range(10):\n",
    "    cs.update_time()\n",
    "    cs.debug_display()"
   ]
  },
  {
   "cell_type": "code",
   "execution_count": 175,
   "metadata": {},
   "outputs": [
    {
     "data": {
      "text/plain": [
       "Text(0.5, 1.0, 'moi = 1')"
      ]
     },
     "execution_count": 175,
     "metadata": {},
     "output_type": "execute_result"
    },
    {
     "data": {
      "image/png": "[encoded data removed]",
      "text/plain": [
       "<Figure size 432x288 with 1 Axes>"
      ]
     },
     "metadata": {
      "needs_background": "light"
     },
     "output_type": "display_data"
    }
   ],
   "source": [
    "cells = [35, 280, 2240, 17920, 143360, 1146880, 9175040, 73400320]\n",
    "phages = [0, 0, 0, 0, 0, 0, 0, 0]\n",
    "plt.plot(phages)\n",
    "plt.xlabel('iterations')\n",
    "plt.ylabel('#phages')\n",
    "plt.title('moi = 1')"
   ]
  }
 ],
 "metadata": {
  "kernelspec": {
   "display_name": "Python 3",
   "language": "python",
   "name": "python3"
  },
  "language_info": {
   "codemirror_mode": {
    "name": "ipython",
    "version": 3
   },
   "file_extension": ".py",
   "mimetype": "text/x-python",
   "name": "python",
   "nbconvert_exporter": "python",
   "pygments_lexer": "ipython3",
   "version": "3.7.3"
  }
 },
 "nbformat": 4,
 "nbformat_minor": 2
}
